{
  "nbformat": 4,
  "nbformat_minor": 0,
  "metadata": {
    "colab": {
      "name": "Welcome To Colaboratory",
      "provenance": [],
      "collapsed_sections": [],
      "toc_visible": true,
      "include_colab_link": true
    },
    "kernelspec": {
      "display_name": "Python 3",
      "name": "python3"
    }
  },
  "cells": [
    {
      "cell_type": "markdown",
      "metadata": {
        "id": "view-in-github",
        "colab_type": "text"
      },
      "source": [
        "<a href=\"https://colab.research.google.com/github/MissLolaDavid/Test-Three/blob/main/Welcome_To_Colaboratory.ipynb\" target=\"_parent\"><img src=\"https://colab.research.google.com/assets/colab-badge.svg\" alt=\"Open In Colab\"/></a>"
      ]
    },
    {
      "cell_type": "code",
      "metadata": {
        "colab": {
          "base_uri": "https://localhost:8080/"
        },
        "id": "Oj2_i9QhJUUT",
        "outputId": "b6444a44-36c7-4963-927b-eb9bdd332be5"
      },
      "source": [
        "# Enter customer's full names\n",
        "firstname = input(\"Enter customer's first name: \")\n",
        "middlename = input(\"Enter customer's middle name: \")\n",
        "lastname = input(\"Enter customer's last name: \")\n",
        "all_names = (firstname + \" \" + middlename + \" \" + lastname)\n",
        "# Enter customer's phone\n",
        "phone = input(\"Enter customer's phone number: \")\n",
        "# Enter customer's email\n",
        "email = input(\"Enter customer's email address: \")\n",
        "print(\"Full_Names:\" + all_names)\n",
        "print(\"Phone:\" + phone)\n",
        "print(\"Email:\" + email)\n",
        "# Price of a used car\n",
        "price = 10000\n",
        "has_good_credit = True\n",
        "if has_good_credit:\n",
        "    down_payment = 0.1 * price\n",
        "else:\n",
        "    down_payment = 0.2 * price\n",
        "print(f\"Down payment:{down_payment}\")"
      ],
      "execution_count": 2,
      "outputs": [
        {
          "output_type": "stream",
          "text": [
            "Enter customer's first name: Bernard\n",
            "Enter customer's middle name: Njoroge\n",
            "Enter customer's last name: Otieno\n",
            "Enter customer's phone number: 872-987-9876\n",
            "Enter customer's email address: usedcarsalesman@gmail.com\n",
            "Full_Names:Bernard Njoroge Otieno\n",
            "Phone:872-987-9876\n",
            "Email:usedcarsalesman@gmail.com\n",
            "Down payment:1000.0\n"
          ],
          "name": "stdout"
        }
      ]
    }
  ]
}